{
 "cells": [
  {
   "cell_type": "code",
   "execution_count": 1,
   "metadata": {},
   "outputs": [],
   "source": [
    "import tensorflow as tf"
   ]
  },
  {
   "cell_type": "code",
   "execution_count": 2,
   "metadata": {},
   "outputs": [
    {
     "name": "stderr",
     "output_type": "stream",
     "text": [
      "/Users/r07525009/miniforge3/envs/tf26/lib/python3.9/site-packages/tqdm/auto.py:22: TqdmWarning: IProgress not found. Please update jupyter and ipywidgets. See https://ipywidgets.readthedocs.io/en/stable/user_install.html\n",
      "  from .autonotebook import tqdm as notebook_tqdm\n"
     ]
    }
   ],
   "source": [
    "from ckip_transformers.nlp import CkipWordSegmenter, CkipPosTagger, CkipNerChunker"
   ]
  },
  {
   "cell_type": "code",
   "execution_count": 6,
   "metadata": {},
   "outputs": [
    {
     "name": "stdout",
     "output_type": "stream",
     "text": [
      "Collecting ckip-transformers\n",
      "  Using cached ckip_transformers-0.3.2-py3-none-any.whl (26 kB)\n",
      "Requirement already satisfied: tqdm>=4.27 in /Users/r07525009/miniforge3/envs/tf26/lib/python3.9/site-packages (from ckip-transformers) (4.64.1)\n",
      "Requirement already satisfied: transformers>=3.5.0 in /Users/r07525009/miniforge3/envs/tf26/lib/python3.9/site-packages (from ckip-transformers) (4.22.2)\n",
      "Collecting torch>=1.5.0\n",
      "  Using cached torch-1.12.1-cp39-none-macosx_11_0_arm64.whl (49.1 MB)\n",
      "Requirement already satisfied: typing-extensions in /Users/r07525009/miniforge3/envs/tf26/lib/python3.9/site-packages (from torch>=1.5.0->ckip-transformers) (4.3.0)\n",
      "Requirement already satisfied: pyyaml>=5.1 in /Users/r07525009/miniforge3/envs/tf26/lib/python3.9/site-packages (from transformers>=3.5.0->ckip-transformers) (6.0)\n",
      "Requirement already satisfied: regex!=2019.12.17 in /Users/r07525009/miniforge3/envs/tf26/lib/python3.9/site-packages (from transformers>=3.5.0->ckip-transformers) (2022.9.13)\n",
      "Requirement already satisfied: huggingface-hub<1.0,>=0.9.0 in /Users/r07525009/miniforge3/envs/tf26/lib/python3.9/site-packages (from transformers>=3.5.0->ckip-transformers) (0.10.0)\n",
      "Requirement already satisfied: requests in /Users/r07525009/miniforge3/envs/tf26/lib/python3.9/site-packages (from transformers>=3.5.0->ckip-transformers) (2.28.1)\n",
      "Requirement already satisfied: packaging>=20.0 in /Users/r07525009/miniforge3/envs/tf26/lib/python3.9/site-packages (from transformers>=3.5.0->ckip-transformers) (21.3)\n",
      "Requirement already satisfied: tokenizers!=0.11.3,<0.13,>=0.11.1 in /Users/r07525009/miniforge3/envs/tf26/lib/python3.9/site-packages (from transformers>=3.5.0->ckip-transformers) (0.12.1)\n",
      "Requirement already satisfied: filelock in /Users/r07525009/miniforge3/envs/tf26/lib/python3.9/site-packages (from transformers>=3.5.0->ckip-transformers) (3.8.0)\n",
      "Requirement already satisfied: numpy>=1.17 in /Users/r07525009/miniforge3/envs/tf26/lib/python3.9/site-packages (from transformers>=3.5.0->ckip-transformers) (1.23.3)\n",
      "Requirement already satisfied: pyparsing!=3.0.5,>=2.0.2 in /Users/r07525009/miniforge3/envs/tf26/lib/python3.9/site-packages (from packaging>=20.0->transformers>=3.5.0->ckip-transformers) (3.0.9)\n",
      "Requirement already satisfied: idna<4,>=2.5 in /Users/r07525009/miniforge3/envs/tf26/lib/python3.9/site-packages (from requests->transformers>=3.5.0->ckip-transformers) (3.4)\n",
      "Requirement already satisfied: charset-normalizer<3,>=2 in /Users/r07525009/miniforge3/envs/tf26/lib/python3.9/site-packages (from requests->transformers>=3.5.0->ckip-transformers) (2.1.1)\n",
      "Requirement already satisfied: urllib3<1.27,>=1.21.1 in /Users/r07525009/miniforge3/envs/tf26/lib/python3.9/site-packages (from requests->transformers>=3.5.0->ckip-transformers) (1.26.11)\n",
      "Requirement already satisfied: certifi>=2017.4.17 in /Users/r07525009/miniforge3/envs/tf26/lib/python3.9/site-packages (from requests->transformers>=3.5.0->ckip-transformers) (2022.9.24)\n",
      "Installing collected packages: torch, ckip-transformers\n",
      "Successfully installed ckip-transformers-0.3.2 torch-1.12.1\n"
     ]
    }
   ],
   "source": [
    "!pip install -U ckip-transformers"
   ]
  },
  {
   "cell_type": "code",
   "execution_count": 3,
   "metadata": {},
   "outputs": [
    {
     "name": "stdout",
     "output_type": "stream",
     "text": [
      "1.13.0.dev20220930\n",
      "True\n",
      "True\n"
     ]
    }
   ],
   "source": [
    "import torch\n",
    "print(torch.__version__)\n",
    "print(torch.backends.mps.is_available())\n",
    "print(torch.backends.mps.is_built())\n",
    "device = torch.device(\"mps\")"
   ]
  },
  {
   "cell_type": "code",
   "execution_count": 35,
   "metadata": {},
   "outputs": [],
   "source": [
    "ws_driver = CkipWordSegmenter(device=device)\n",
    "pos_driver = CkipPosTagger(device=device)\n",
    "ner_driver = CkipNerChunker(device=device)"
   ]
  },
  {
   "cell_type": "code",
   "execution_count": 50,
   "metadata": {},
   "outputs": [],
   "source": [
    "def ckipped_ws(input):\n",
    "    input = [input]\n",
    "    ws = ws_driver(input, use_delim = False)\n",
    "    return ' '.join(ws[0])\n",
    "\n",
    "def ckipped_pos(input):\n",
    "    input = [input]\n",
    "    ws = ws_driver(input, use_delim = False)\n",
    "    pos = pos_driver(ws, use_delim = False)\n",
    "\n",
    "    assert len(ws) == len(pos)\n",
    "    res = []\n",
    "    for word_ws, word_pos in zip(ws, pos):\n",
    "       for wws, wpos in zip(word_ws, word_pos):\n",
    "         res.append((wws,wpos))\n",
    "    \n",
    "    wp = [' '.join(r) for r in res]\n",
    "\n",
    "    return ' '.join(wp)\n",
    "\n",
    "def ckipped_ner(input):\n",
    "    input = [input]\n",
    "    ner = ner_driver(input, use_delim=False)\n",
    "    ner_word = [i[0]  for n in ner for i in n]\n",
    "    ner_type = [i[1]  for n in ner for i in n]\n",
    "    return ner_word, ner_type\n",
    "            \n",
    "    "
   ]
  },
  {
   "cell_type": "code",
   "execution_count": 51,
   "metadata": {},
   "outputs": [
    {
     "name": "stderr",
     "output_type": "stream",
     "text": [
      "Tokenization: 100%|██████████| 1/1 [00:00<00:00, 9362.29it/s]\n",
      "Inference: 100%|██████████| 1/1 [00:00<00:00,  3.90it/s]\n",
      "Tokenization: 100%|██████████| 1/1 [00:00<00:00, 15887.52it/s]\n",
      "Inference: 100%|██████████| 1/1 [00:00<00:00, 32.35it/s]\n",
      "Tokenization: 100%|██████████| 1/1 [00:00<00:00, 3785.47it/s]\n",
      "Inference: 100%|██████████| 1/1 [00:00<00:00,  4.74it/s]\n",
      "Tokenization: 100%|██████████| 1/1 [00:00<00:00, 10205.12it/s]\n",
      "Inference: 100%|██████████| 1/1 [00:00<00:00,  4.91it/s]"
     ]
    },
    {
     "name": "stdout",
     "output_type": "stream",
     "text": [
      "今天 Nd   WHITESPACE 的 DE   WHITESPACE 社科院 Nc   WHITESPACE 圖書館 Nc   WHITESPACE 好 Dfa   WHITESPACE 熱 VHC\n",
      "['今天', '社科院']\n",
      "['DATE', 'ORG']\n"
     ]
    },
    {
     "name": "stderr",
     "output_type": "stream",
     "text": [
      "\n"
     ]
    }
   ],
   "source": [
    "sent = '今天的社科院圖書館好熱'\n",
    "ws = ckipped_ws(sent)\n",
    "pos = ckipped_pos(ws)\n",
    "ner_w, ner_t = ckipped_ner(sent)\n",
    "print(pos)\n",
    "print(ner_w)\n",
    "print(ner_t)"
   ]
  },
  {
   "cell_type": "code",
   "execution_count": 30,
   "metadata": {},
   "outputs": [
    {
     "name": "stderr",
     "output_type": "stream",
     "text": [
      "Tokenization: 100%|██████████| 1/1 [00:00<00:00, 9098.27it/s]\n",
      "Inference: 100%|██████████| 1/1 [00:00<00:00,  6.49it/s]\n"
     ]
    },
    {
     "data": {
      "text/plain": [
       "[[NerToken(word='美國參議院', ner='ORG', idx=(0, 5)),\n",
       "  NerToken(word='今天', ner='LOC', idx=(7, 9)),\n",
       "  NerToken(word='布什', ner='PERSON', idx=(11, 13)),\n",
       "  NerToken(word='勞工部長', ner='ORG', idx=(17, 21)),\n",
       "  NerToken(word='趙小蘭', ner='PERSON', idx=(21, 24)),\n",
       "  NerToken(word='認可聽證會', ner='EVENT', idx=(26, 31)),\n",
       "  NerToken(word='參議院', ner='ORG', idx=(42, 45)),\n",
       "  NerToken(word='第一', ner='ORDINAL', idx=(56, 58)),\n",
       "  NerToken(word='華裔', ner='NORP', idx=(60, 62))]]"
      ]
     },
     "execution_count": 30,
     "metadata": {},
     "output_type": "execute_result"
    }
   ],
   "source": [
    "input = ['美國參議院針對今天總統布什所提名的勞工部長趙小蘭展開認可聽證會，預料她將會很順利通過參議院支持，成為該國有史以來第一位的華裔女性內閣成員。']\n",
    "ner = ner_driver(input, use_delim=False)\n",
    "ner"
   ]
  },
  {
   "cell_type": "code",
   "execution_count": 57,
   "metadata": {},
   "outputs": [],
   "source": [
    "def ckipped(input):\n",
    "    input = [input]    \n",
    "    ws = ws_driver(input, use_delim = False)\n",
    "    pos = pos_driver(ws, use_delim = False)\n",
    "\n",
    "    assert len(ws) == len(pos)\n",
    "    res = []\n",
    "    for word_ws, word_pos in zip(ws, pos):\n",
    "       for wws, wpos in zip(word_ws, word_pos):\n",
    "         res.append((wws,wpos))\n",
    "    print('ckipped done')\n",
    "    return res\n",
    "  \n",
    "def cwn_tagged(lemma):\n",
    "    if cwn_tagger is None:\n",
    "       print('re-initializing ckip...')\n",
    "       warmup()\n",
    "    \n",
    "    tagged = cwn_tagger.find_lemma(lemma)\n",
    "    senses = tagged[0].senses\n",
    "    num_of_sense = len(senses)\n",
    "\n",
    "    return senses, num_of_sense"
   ]
  },
  {
   "cell_type": "code",
   "execution_count": 54,
   "metadata": {},
   "outputs": [
    {
     "name": "stderr",
     "output_type": "stream",
     "text": [
      "Tokenization: 100%|██████████| 1/1 [00:00<00:00, 4120.14it/s]\n",
      "Inference: 100%|██████████| 1/1 [00:00<00:00,  3.13it/s]\n",
      "Tokenization: 100%|██████████| 1/1 [00:00<00:00, 8905.10it/s]\n",
      "Inference: 100%|██████████| 1/1 [00:00<00:00,  4.22it/s]"
     ]
    },
    {
     "name": "stdout",
     "output_type": "stream",
     "text": [
      "ckipped done\n"
     ]
    },
    {
     "name": "stderr",
     "output_type": "stream",
     "text": [
      "\n"
     ]
    }
   ],
   "source": [
    "input= '三角函數很棒'\n",
    "res = ckipped(input)"
   ]
  },
  {
   "cell_type": "code",
   "execution_count": 44,
   "metadata": {},
   "outputs": [],
   "source": [
    "from CwnGraph import CwnImage"
   ]
  },
  {
   "cell_type": "code",
   "execution_count": 64,
   "metadata": {},
   "outputs": [
    {
     "name": "stdout",
     "output_type": "stream",
     "text": [
      "[[], [<CwnSense[04040801](很少，VH): 形容數量少。>, <CwnSense[04040802](很少，Neqa): 數量少。>, <CwnSense[04040803](很少，VH): 形容低於預期程度。>, <CwnSense[04040804](很少，D): 表事件發生的頻率比預期低。>], [<CwnSense[05130301](接棒，VB,nom): 接力賽跑中，接受他人傳交的棒子。>, <CwnSense[05130302](接棒，VB,nom): 接力賽跑中，接交棒子的過程。>, <CwnSense[05130303](接棒，VB,nom): 接替責任或所有權。>, <CwnSense[05130304](接棒，VB,nom): 延續承接股盤漲勢。>]]\n",
      "[0, 4, 4]\n"
     ]
    }
   ],
   "source": [
    "word = [r[0] for r in res]\n",
    "pos = [r[1] for r in res]\n",
    "\n",
    "senses, num_of_sense = [], []\n",
    "for w in word:\n",
    "    s, ns = cwn_tagged(w)\n",
    "    senses.append(s)\n",
    "    num_of_sense.append(ns)\n",
    "print(senses)\n",
    "print(num_of_sense)\n"
   ]
  },
  {
   "cell_type": "code",
   "execution_count": 60,
   "metadata": {},
   "outputs": [
    {
     "data": {
      "text/plain": [
       "[<CwnSense[06613601](電腦，Na): 一種資料處理裝置，能自動接受並儲存、處理輸入的資料，然後經由一組預先存放在機器內的指令逐步引導下產生輸出結果。>,\n",
       " <CwnSense[06613602](電腦，Na): 研究或操作電腦的知識。>,\n",
       " <CwnSense[06613603](電腦，Na): 比喻計算或記憶能力很強的人。>]"
      ]
     },
     "execution_count": 60,
     "metadata": {},
     "output_type": "execute_result"
    }
   ],
   "source": [
    "cwn_tagger = CwnImage.latest()\n",
    "lemmas = cwn_tagger.find_lemma(\"電腦\")\n",
    "senses = lemmas[0].senses\n",
    "senses"
   ]
  },
  {
   "cell_type": "code",
   "execution_count": 54,
   "metadata": {},
   "outputs": [],
   "source": [
    "ptt = pd.read_csv('../../nlp_web/assignments/ptt-crawler/data/Soft_job/2019/Soft_job_2019_10.csv')"
   ]
  },
  {
   "cell_type": "code",
   "execution_count": 60,
   "metadata": {},
   "outputs": [
    {
     "data": {
      "text/html": [
       "<div>\n",
       "<style scoped>\n",
       "    .dataframe tbody tr th:only-of-type {\n",
       "        vertical-align: middle;\n",
       "    }\n",
       "\n",
       "    .dataframe tbody tr th {\n",
       "        vertical-align: top;\n",
       "    }\n",
       "\n",
       "    .dataframe thead th {\n",
       "        text-align: right;\n",
       "    }\n",
       "</style>\n",
       "<table border=\"1\" class=\"dataframe\">\n",
       "  <thead>\n",
       "    <tr style=\"text-align: right;\">\n",
       "      <th></th>\n",
       "      <th>author</th>\n",
       "      <th>alias</th>\n",
       "      <th>title</th>\n",
       "      <th>date</th>\n",
       "      <th>ip</th>\n",
       "      <th>city</th>\n",
       "      <th>country</th>\n",
       "      <th>ups</th>\n",
       "      <th>downs</th>\n",
       "      <th>comments</th>\n",
       "      <th>url</th>\n",
       "    </tr>\n",
       "  </thead>\n",
       "  <tbody>\n",
       "    <tr>\n",
       "      <th>0</th>\n",
       "      <td>eacdpizzy</td>\n",
       "      <td>I love baseball</td>\n",
       "      <td>[徵才] 成醫臨醫中心徵資訊演算法博士級研究員</td>\n",
       "      <td>2019-10-07 12:56:03</td>\n",
       "      <td>140.116.253.41</td>\n",
       "      <td>Tainan City</td>\n",
       "      <td>Taiwan</td>\n",
       "      <td>1</td>\n",
       "      <td>1</td>\n",
       "      <td>1</td>\n",
       "      <td>https://www.ptt.cc/bbs/Soft_Job/M.1570424165.A...</td>\n",
       "    </tr>\n",
       "    <tr>\n",
       "      <th>1</th>\n",
       "      <td>ting8489</td>\n",
       "      <td>Allie [33mapolkingg8: m</td>\n",
       "      <td>Re: [討論] Positive Grid 佳格科技 (板主代Po)</td>\n",
       "      <td>2019-10-07 11:28:47</td>\n",
       "      <td>122.116.28.34</td>\n",
       "      <td>New Taipei</td>\n",
       "      <td>Taiwan</td>\n",
       "      <td>19</td>\n",
       "      <td>27</td>\n",
       "      <td>8</td>\n",
       "      <td>https://www.ptt.cc/bbs/Soft_Job/M.1570418929.A...</td>\n",
       "    </tr>\n",
       "    <tr>\n",
       "      <th>2</th>\n",
       "      <td>ting8489</td>\n",
       "      <td>Allie [33mapolkingg8: m</td>\n",
       "      <td>Re: [討論] Positive Grid 佳格科技 (板主代Po)</td>\n",
       "      <td>2019-10-06 21:53:37</td>\n",
       "      <td>122.116.20.215</td>\n",
       "      <td>New Taipei</td>\n",
       "      <td>Taiwan</td>\n",
       "      <td>18</td>\n",
       "      <td>24</td>\n",
       "      <td>29</td>\n",
       "      <td>https://www.ptt.cc/bbs/Soft_Job/M.1570370019.A...</td>\n",
       "    </tr>\n",
       "    <tr>\n",
       "      <th>3</th>\n",
       "      <td>s89227</td>\n",
       "      <td>Kei</td>\n",
       "      <td>[討論] Positive Grid 佳格科技 (板主代Po)</td>\n",
       "      <td>2019-10-06 18:38:07</td>\n",
       "      <td>101.13.131.211</td>\n",
       "      <td>Sanchong District</td>\n",
       "      <td>Taiwan</td>\n",
       "      <td>16</td>\n",
       "      <td>21</td>\n",
       "      <td>22</td>\n",
       "      <td>https://www.ptt.cc/bbs/Soft_Job/M.1570358292.A...</td>\n",
       "    </tr>\n",
       "    <tr>\n",
       "      <th>4</th>\n",
       "      <td>vu04y94</td>\n",
       "      <td>今</td>\n",
       "      <td>[討論] 比薪網站ursalary被消失了?</td>\n",
       "      <td>2019-10-06 17:53:53</td>\n",
       "      <td>27.242.103.249</td>\n",
       "      <td>New Taipei</td>\n",
       "      <td>Taiwan</td>\n",
       "      <td>8</td>\n",
       "      <td>0</td>\n",
       "      <td>1</td>\n",
       "      <td>https://www.ptt.cc/bbs/Soft_Job/M.1570355635.A...</td>\n",
       "    </tr>\n",
       "  </tbody>\n",
       "</table>\n",
       "</div>"
      ],
      "text/plain": [
       "      author                    alias                                title  \\\n",
       "0  eacdpizzy          I love baseball              [徵才] 成醫臨醫中心徵資訊演算法博士級研究員   \n",
       "1   ting8489  Allie [33mapolkingg8: m  Re: [討論] Positive Grid 佳格科技 (板主代Po)   \n",
       "2   ting8489  Allie [33mapolkingg8: m  Re: [討論] Positive Grid 佳格科技 (板主代Po)   \n",
       "3     s89227                      Kei      [討論] Positive Grid 佳格科技 (板主代Po)   \n",
       "4    vu04y94                        今               [討論] 比薪網站ursalary被消失了?   \n",
       "\n",
       "                  date              ip               city country  ups  downs  \\\n",
       "0  2019-10-07 12:56:03  140.116.253.41        Tainan City  Taiwan    1      1   \n",
       "1  2019-10-07 11:28:47   122.116.28.34         New Taipei  Taiwan   19     27   \n",
       "2  2019-10-06 21:53:37  122.116.20.215         New Taipei  Taiwan   18     24   \n",
       "3  2019-10-06 18:38:07  101.13.131.211  Sanchong District  Taiwan   16     21   \n",
       "4  2019-10-06 17:53:53  27.242.103.249         New Taipei  Taiwan    8      0   \n",
       "\n",
       "   comments                                                url  \n",
       "0         1  https://www.ptt.cc/bbs/Soft_Job/M.1570424165.A...  \n",
       "1         8  https://www.ptt.cc/bbs/Soft_Job/M.1570418929.A...  \n",
       "2        29  https://www.ptt.cc/bbs/Soft_Job/M.1570370019.A...  \n",
       "3        22  https://www.ptt.cc/bbs/Soft_Job/M.1570358292.A...  \n",
       "4         1  https://www.ptt.cc/bbs/Soft_Job/M.1570355635.A...  "
      ]
     },
     "execution_count": 60,
     "metadata": {},
     "output_type": "execute_result"
    }
   ],
   "source": [
    "ptt.head()"
   ]
  },
  {
   "cell_type": "code",
   "execution_count": 64,
   "metadata": {},
   "outputs": [
    {
     "data": {
      "text/plain": [
       "['[徵才] 成醫臨醫中心徵資訊演算法博士級研究員',\n",
       " 'Re: [討論] Positive Grid 佳格科技 (板主代Po)',\n",
       " 'Re: [討論] Positive Grid 佳格科技 (板主代Po)',\n",
       " '[討論] Positive Grid 佳格科技 (板主代Po)',\n",
       " '[討論] 比薪網站ursalary被消失了?',\n",
       " '[心得] 如何開始內部易用性測試？',\n",
       " '[請益] 各種軟體授權的商業使用',\n",
       " '[徵才] 新創徵專任研究助理',\n",
       " '[徵才]  Shinli 鑫利 徵多位工程師 50K-200K',\n",
       " '[請益] 有沒有推薦的自然語言處理課程?',\n",
       " '[請益] offer選擇 金融 博弈',\n",
       " '[請益] 當SVN update後，檔案遇到三方衝突...',\n",
       " '[情報] 金融科技自動交易訓練班第04期(政府補助)',\n",
       " '[請益] 如何向老闆證明Server 100 GB不夠用？',\n",
       " '[心得] 由田面試心得',\n",
       " '[請益] OFFER 請益',\n",
       " '[請益] AI人工智慧 vs VR虛擬實境',\n",
       " '[請益] 從中國回台的半路出家工程師找工作疑問',\n",
       " '[徵才] 成醫臨醫中心徵資訊演算法碩士級研究員',\n",
       " 'Offer 請益(公部門/安永）']"
      ]
     },
     "execution_count": 64,
     "metadata": {},
     "output_type": "execute_result"
    }
   ],
   "source": [
    "title = ptt.title.to_list()\n",
    "title"
   ]
  },
  {
   "cell_type": "code",
   "execution_count": 63,
   "metadata": {},
   "outputs": [],
   "source": [
    "import re"
   ]
  },
  {
   "cell_type": "code",
   "execution_count": 65,
   "metadata": {},
   "outputs": [
    {
     "name": "stdout",
     "output_type": "stream",
     "text": [
      "[徵才] 成醫臨醫中心徵資訊演算法博士級研究員\n",
      "[徵才] 新創徵專任研究助理\n",
      "[徵才]  Shinli 鑫利 徵多位工程師 50K-200K\n",
      "[徵才] 成醫臨醫中心徵資訊演算法碩士級研究員\n"
     ]
    }
   ],
   "source": [
    "search_word = '徵才'\n",
    "for t in title:\n",
    "    if re.search(search_word, t):\n",
    "        print(t)"
   ]
  },
  {
   "cell_type": "code",
   "execution_count": null,
   "metadata": {},
   "outputs": [],
   "source": []
  }
 ],
 "metadata": {
  "interpreter": {
   "hash": "68f0571cbd4d590adc2237384deb504ec0282eed0ea443a528b4876193e87c44"
  },
  "kernelspec": {
   "display_name": "Python 3.9.0 ('tf26')",
   "language": "python",
   "name": "python3"
  },
  "language_info": {
   "codemirror_mode": {
    "name": "ipython",
    "version": 3
   },
   "file_extension": ".py",
   "mimetype": "text/x-python",
   "name": "python",
   "nbconvert_exporter": "python",
   "pygments_lexer": "ipython3",
   "version": "3.9.0"
  },
  "orig_nbformat": 4
 },
 "nbformat": 4,
 "nbformat_minor": 2
}
